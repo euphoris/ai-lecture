{
  "nbformat": 4,
  "nbformat_minor": 0,
  "metadata": {
    "colab": {
      "provenance": []
    },
    "kernelspec": {
      "name": "python3",
      "display_name": "Python 3"
    },
    "language_info": {
      "name": "python"
    },
    "accelerator": "GPU",
    "gpuClass": "standard"
  },
  "cells": [
    {
      "cell_type": "code",
      "execution_count": null,
      "metadata": {
        "id": "iPhO2wkVVHEE"
      },
      "outputs": [],
      "source": [
        "!pip install transformers"
      ]
    },
    {
      "cell_type": "code",
      "source": [
        "from transformers import pipeline"
      ],
      "metadata": {
        "id": "QF1k0Ec8Vjyv"
      },
      "execution_count": null,
      "outputs": []
    },
    {
      "cell_type": "code",
      "source": [
        "kogpt = pipeline('text-generation', model='skt/kogpt2-base-v2')"
      ],
      "metadata": {
        "id": "ghkwnvupV_0W"
      },
      "execution_count": null,
      "outputs": []
    },
    {
      "cell_type": "code",
      "source": [
        "import torch\n",
        "device = torch.device('cuda:0')\n",
        "kogpt = pipeline('text-generation', model='skt/kogpt2-base-v2',\n",
        "                 device=device)"
      ],
      "metadata": {
        "colab": {
          "base_uri": "https://localhost:8080/"
        },
        "id": "aIP5Ld83WERG",
        "outputId": "7070dd59-e008-496f-c20b-18d69d433abb"
      },
      "execution_count": null,
      "outputs": [
        {
          "output_type": "stream",
          "name": "stderr",
          "text": [
            "Special tokens have been added in the vocabulary, make sure the associated word embeddings are fine-tuned or trained.\n"
          ]
        }
      ]
    },
    {
      "cell_type": "code",
      "source": [
        "prompt = '인공지능의 발전으로 반도체 수요가 증가하고 있다.'\n",
        "kogpt(prompt)"
      ],
      "metadata": {
        "colab": {
          "base_uri": "https://localhost:8080/"
        },
        "id": "F4AJF-phWZm-",
        "outputId": "c47da5fe-1cfc-4b44-d5e0-4db72d07ce1e"
      },
      "execution_count": null,
      "outputs": [
        {
          "output_type": "execute_result",
          "data": {
            "text/plain": [
              "[{'generated_text': '인공지능의 발전으로 반도체 수요가 증가하고 있다. 한국전력은 전력·통신·방송·미래 등 3개 기간산업에 속하는 기간산업 가운데 연구개발(R&D) 투자 비중을 가장 확대한다.\\n기획재정부와 미래창조과학부는 16일 정부서울청사에서 이'}]"
            ]
          },
          "metadata": {},
          "execution_count": 6
        }
      ]
    },
    {
      "cell_type": "code",
      "source": [
        "kogpt(prompt, max_length=200)"
      ],
      "metadata": {
        "colab": {
          "base_uri": "https://localhost:8080/"
        },
        "id": "_SPIT3pjWkyp",
        "outputId": "576666c8-561c-44fe-9c42-b1674ffc6fe8"
      },
      "execution_count": null,
      "outputs": [
        {
          "output_type": "execute_result",
          "data": {
            "text/plain": [
              "[{'generated_text': '인공지능의 발전으로 반도체 수요가 증가하고 있다. 고객사와의 계약조건은 연 6.7조원이지만 2020년이면 6.8조원 규모로 증가할 것으로 예측된다. 고객사는 삼성전자 매출의 약 80%를 올리고 있으며 이에 따라 메모리 시장에서도 메모리 강자로 인정받고 있다. 파운드리 산업에서 삼성전자는 메모리 분야 매출의 약 70%를 차지하고 있다. 현재 D램 등 주요 제품들이 메모리 설계에서부터 회로 설계에 이르기까지 반도체 제품 설계부터 회로 설계 과정을 담당하고 있기 때문에 메모리 설계가 가장 중요한 부분\"이라고 분석했다.\\n최근 삼성전자는 국내 대표 팹리스(미세공정업체를 대상으로 한 후불연결) 기업의 강세를 바탕으로 메모리 사업에서 두각을 나타내고 있다.\\n시장조사 기관 IC인사이츠의 조사에 따르면 지난 2012년 대비 2015년 파운드리 시장에서 삼성전자는 25%의 점유율을 기록한 것으로 관측됐다.\\n이는 대만(10%), 중국(3%), 미국(11%) 등에 이어 삼성전자 6위다.\\n특히 업계 1위인 TSMC와 NEC'}]"
            ]
          },
          "metadata": {},
          "execution_count": 7
        }
      ]
    },
    {
      "cell_type": "code",
      "source": [
        "kogpt(prompt, do_sample=False, max_length=200, no_repeat_ngram_size=5)"
      ],
      "metadata": {
        "colab": {
          "base_uri": "https://localhost:8080/"
        },
        "id": "kBxEiyuQW0Ec",
        "outputId": "23ece426-9c35-4b12-fde9-f619cff77b91"
      },
      "execution_count": null,
      "outputs": [
        {
          "output_type": "execute_result",
          "data": {
            "text/plain": [
              "[{'generated_text': '인공지능의 발전으로 반도체 수요가 증가하고 있다. 지난해 국내 자동차 판매량이 사상 처음으로 1000만대를 돌파했다.\\n한국자동차산업협회는 지난해 국내 자동차판매량이 전년 대비 5.5% 증가한 1185만대를 기록했다고 1일 밝혔다.\\n이는 지난해 국내 자동차 생산대수가 전년 대비 5.6% 증가한 것에 비해 증가폭이 크게 확대된 것이다.\\n자동차 판매량은 지난해 국내 자동차산업 전체 판매량의 약 70%를 차지했다.\\n지난해 국내 자동차 판매량은 전년 대비 5.2% 증가한 1185만대로 집계됐다.\\n자동차산업협회 관계자는 “지난해 국내 완성차 업체들이 신차 출시를 통해 내수시장 점유율을 확대하는 등 판매량이 증가했다”며 “올해는 신차 출시와 함께 신차 출시가 본격화돼 판매량이 증가할 것으로 예상된다”고 말했다.\\n한편 지난해 국내 자동차 생산은 전년 대비 5.1% 증가한 1185만여대를 기록했다.\\n이는 전년 대비 5.7% 증가한 수치다.\\n국내 자동차 생산은 지난해 국내 자동차생산이 전년 대비'}]"
            ]
          },
          "metadata": {},
          "execution_count": 9
        }
      ]
    },
    {
      "cell_type": "code",
      "source": [
        "from transformers import AutoTokenizer\n",
        "tokenizer = AutoTokenizer.from_pretrained('skt/kogpt2-base-v2')\n",
        "bad_tokens = [[b] for b in tokenizer.encode('자동차')]"
      ],
      "metadata": {
        "colab": {
          "base_uri": "https://localhost:8080/"
        },
        "id": "yLpdiqDcXDUC",
        "outputId": "23921218-8895-4b87-987a-ecab6cfac1a6"
      },
      "execution_count": null,
      "outputs": [
        {
          "output_type": "stream",
          "name": "stderr",
          "text": [
            "Special tokens have been added in the vocabulary, make sure the associated word embeddings are fine-tuned or trained.\n"
          ]
        }
      ]
    },
    {
      "cell_type": "code",
      "source": [
        "kogpt(prompt, do_sample=False, max_length=200, no_repeat_ngram_size=5,\n",
        "      bad_words_ids=bad_tokens)"
      ],
      "metadata": {
        "colab": {
          "base_uri": "https://localhost:8080/"
        },
        "id": "UUn79qhwYHLi",
        "outputId": "e881fa5e-4f84-4118-d4bc-7d8420853830"
      },
      "execution_count": null,
      "outputs": [
        {
          "output_type": "execute_result",
          "data": {
            "text/plain": [
              "[{'generated_text': '인공지능의 발전으로 반도체 수요가 증가하고 있다. 지난해 국내 기업들의 해외 직접투자가 사상 최대치를 기록했다.\\n해외 직접투자는 지난해 사상 최대인 6조5000억원을 기록했다.\\n하지만 국내 기업의 해외 직접투자는 지난해보다 감소한 것으로 나타났다.\\n한국무역협회 국제무역연구원은 지난해 국내 기업의 해외 직접투자액이 6조5000억원이라고 밝혔다.\\n이는 전년보다 4000억원 늘어난 수치다.\\n해외 직접투자는 국내 기업의 해외 직접투자를 의미하는 것으로 국내 기업의 해외 직접투자가 증가한 것은 지난해부터다.\\n지난해 국내 기업의 해외직접투자는 전년보다 4% 증가한 4조5000억원으로 집계됐다.\\n해외 직접투자는 전년보다 6% 증가한 4조3000억원을 기록했다.\\n해외 직접투자의 증가세는 지난해부터 지속됐다.\\n지난해 국내 기업들의 국내 직접투자는 전년 대비 4% 증가한 4조2000억원을 기록했다.\\n지난해 국내 기업들이 해외 직접투자를 늘린 것은 글로벌 경기침체 여파로 해외 직접투자가 감소'}]"
            ]
          },
          "metadata": {},
          "execution_count": 12
        }
      ]
    },
    {
      "cell_type": "code",
      "source": [
        "kogpt(prompt, max_length=200, num_beams=5, no_repeat_ngram_size=5)"
      ],
      "metadata": {
        "colab": {
          "base_uri": "https://localhost:8080/"
        },
        "id": "AjtdyzHHYRJv",
        "outputId": "fb8da969-3032-478e-bbfd-7624febea627"
      },
      "execution_count": null,
      "outputs": [
        {
          "output_type": "execute_result",
          "data": {
            "text/plain": [
              "[{'generated_text': '인공지능의 발전으로 반도체 수요가 증가하고 있다. 고부가가치 제품인 D램과 낸드플래시 메모리 시장도 호조를 보이고 있다\"고 분석했다.\\n김 연구원은 \"SK하이닉스의 올해 1분기 영업이익은 전년 동기 대비 11.6% 증가한 1조3000억원을 기록할 것으로 예상된다\"며 \"D램과 낸드의 영업이익이 전년 동기 대비 각각 10.5%, 12.2% 증가한 1조7000억원을 기록할 것\"이라고 내다봤다.\\n김 연구원은 \"D램의 경우 올해 1분기 매출액은 전년 동기 대비 8.6% 증가한 8조5000억원을 기록할 전망\"이라며 \"낸드플래시의 경우 1분기 매출액과 영업이익이 각각 전년 동기 대비 10.1%, 9.2% 증가한 8조7000억원과 1조4000억원을 기록할 것\"으로 예상했다.\\n그는 \"올해 1분기 D램 평균판매가격(ASP)은 전년 동기 대비 5.2% 상승한 1.0달러를 기록할'}]"
            ]
          },
          "metadata": {},
          "execution_count": 14
        }
      ]
    },
    {
      "cell_type": "code",
      "source": [
        "kogpt(prompt, top_k=100)"
      ],
      "metadata": {
        "colab": {
          "base_uri": "https://localhost:8080/"
        },
        "id": "T7jbvdYjYs2Q",
        "outputId": "fcd82e4f-a112-42a6-8bf2-3567e701552e"
      },
      "execution_count": null,
      "outputs": [
        {
          "output_type": "execute_result",
          "data": {
            "text/plain": [
              "[{'generated_text': '인공지능의 발전으로 반도체 수요가 증가하고 있다. 이번 행사에서는 지난달 30일 문을 연 ‘서울아산병원’이 후원하고 서울아산병원 간호사 3명이 의료봉사자로 나섰다.\\n서울아산병원 간호사 3명은 지난해 9월 서울'}]"
            ]
          },
          "metadata": {},
          "execution_count": 17
        }
      ]
    },
    {
      "cell_type": "code",
      "source": [
        "kogpt(prompt, top_p=0.5)"
      ],
      "metadata": {
        "colab": {
          "base_uri": "https://localhost:8080/"
        },
        "id": "0obfjuQUZPgz",
        "outputId": "23c845dc-45a6-499c-9038-c0b6c774ee89"
      },
      "execution_count": null,
      "outputs": [
        {
          "output_type": "stream",
          "name": "stderr",
          "text": [
            "/usr/local/lib/python3.9/dist-packages/transformers/pipelines/base.py:1070: UserWarning: You seem to be using the pipelines sequentially on GPU. In order to maximize efficiency please use a dataset\n",
            "  warnings.warn(\n",
            "/usr/local/lib/python3.9/dist-packages/transformers/generation/utils.py:1288: UserWarning: Using `max_length`'s default (50) to control the generation length. This behaviour is deprecated and will be removed from the config in v5 of Transformers -- we recommend using `max_new_tokens` to control the maximum length of the generation.\n",
            "  warnings.warn(\n"
          ]
        },
        {
          "output_type": "execute_result",
          "data": {
            "text/plain": [
              "[{'generated_text': '인공지능의 발전으로 반도체 수요가 증가하고 있다. 지난해 12월 말 기준 국내 상장기업 중 직원 수가 가장 많은 기업은 삼성전자로 전체 직원의 4.8%를 차지했다.\\n지난해 말 기준 직원 수는 삼성전자가 765만8천명으로 가장'}]"
            ]
          },
          "metadata": {},
          "execution_count": 18
        }
      ]
    },
    {
      "cell_type": "code",
      "source": [
        "kogpt(prompt, repetition_penalty=2.0)"
      ],
      "metadata": {
        "colab": {
          "base_uri": "https://localhost:8080/"
        },
        "id": "oP70-mmuZaUV",
        "outputId": "122c2955-8ead-411a-adad-1ec52f1948cd"
      },
      "execution_count": null,
      "outputs": [
        {
          "output_type": "stream",
          "name": "stderr",
          "text": [
            "/usr/local/lib/python3.9/dist-packages/transformers/pipelines/base.py:1070: UserWarning: You seem to be using the pipelines sequentially on GPU. In order to maximize efficiency please use a dataset\n",
            "  warnings.warn(\n",
            "/usr/local/lib/python3.9/dist-packages/transformers/generation/utils.py:1288: UserWarning: Using `max_length`'s default (50) to control the generation length. This behaviour is deprecated and will be removed from the config in v5 of Transformers -- we recommend using `max_new_tokens` to control the maximum length of the generation.\n",
            "  warnings.warn(\n"
          ]
        },
        {
          "output_type": "execute_result",
          "data": {
            "text/plain": [
              "[{'generated_text': '인공지능의 발전으로 반도체 수요가 증가하고 있다. 이 가운데 삼성전자와 하이닉스 모두 5G 기술 개발에 노력하고 있어 차세대 메모리 시장 강자가 될 것으로 내다보고 있다”고 말했다.\\n하이닉스는 국내 업체들과 달리 중국 등 아시아 지역의 파운드리'}]"
            ]
          },
          "metadata": {},
          "execution_count": 29
        }
      ]
    },
    {
      "cell_type": "code",
      "source": [
        "kogpt(prompt, penalty_alpha=0.5, top_k=3)"
      ],
      "metadata": {
        "colab": {
          "base_uri": "https://localhost:8080/"
        },
        "id": "LDjXdKX0ZmNh",
        "outputId": "c77d2495-5726-4474-ee3e-8bb15dac1d75"
      },
      "execution_count": null,
      "outputs": [
        {
          "output_type": "stream",
          "name": "stderr",
          "text": [
            "/usr/local/lib/python3.9/dist-packages/transformers/pipelines/base.py:1070: UserWarning: You seem to be using the pipelines sequentially on GPU. In order to maximize efficiency please use a dataset\n",
            "  warnings.warn(\n",
            "/usr/local/lib/python3.9/dist-packages/transformers/generation/utils.py:1288: UserWarning: Using `max_length`'s default (50) to control the generation length. This behaviour is deprecated and will be removed from the config in v5 of Transformers -- we recommend using `max_new_tokens` to control the maximum length of the generation.\n",
            "  warnings.warn(\n"
          ]
        },
        {
          "output_type": "execute_result",
          "data": {
            "text/plain": [
              "[{'generated_text': '인공지능의 발전으로 반도체 수요가 증가하고 있다. 이 제품은 기존 제품보다 전력 소모량이 30% 이상 감소해 에너지 절감이 가능한 것이 특징이다.\\n특히, 이 제품은 전력 사용량이 적은 시간대에는 전력 소비가 적어 에너지 효율이 높아지고, 전력 소모량이'}]"
            ]
          },
          "metadata": {},
          "execution_count": 30
        }
      ]
    }
  ]
}